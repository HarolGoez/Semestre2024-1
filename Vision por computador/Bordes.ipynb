{
  "cells": [
    {
      "cell_type": "code",
      "execution_count": null,
      "metadata": {
        "id": "0URk7A53ysDD"
      },
      "outputs": [],
      "source": [
        "import numpy as np\n",
        "import pandas as pd\n",
        "import cv2 as cv\n",
        "from google.colab.patches import cv2_imshow # para visualizar imágenes\n",
        "from skimage import io\n",
        "from PIL import Image\n",
        "import matplotlib.pylab as plt\n",
        "%matplotlib inline\n",
        "\n",
        "\n",
        "ruta = '/content/drive/Shareddrives/JPDP/2023_1/Vision/'\n"
      ]
    },
    {
      "cell_type": "markdown",
      "metadata": {
        "id": "IxXmON0pzcnD"
      },
      "source": [
        "# Detección de bordes\n",
        "\n",
        "- Los bordes separan zonas con valores homogéneos.\n",
        "- Los filtros derivativos dan información respecto al cambio de intensidad en una dirección.\n",
        "- Observe que las zonas con derivadas más altas pueden asociarse a bordes.\n",
        "- Resulta interesante umbralizar.\n",
        "\n",
        "![https://i.stack.imgur.com/9xbSz.jpg](https://i.stack.imgur.com/9xbSz.jpg)"
      ]
    },
    {
      "cell_type": "markdown",
      "metadata": {
        "id": "fFb9LySD1nqk"
      },
      "source": [
        "## Para qué usar bordes?\n",
        "- Representa el contenido de las imágenes con curvas, líneas o contornos.\n",
        "- El contenido es más compacto (*False* o *True* en lugar de los posibles niveles de gris)\n",
        "- Pueden ser invariantes ante cambios en la iluminación.\n",
        "- Útil para reconocimiento de patrones."
      ]
    },
    {
      "cell_type": "markdown",
      "metadata": {
        "id": "p_GhT2r85Cz_"
      },
      "source": [
        "- Se lee la imagen y se lleva a tonos de gris"
      ]
    },
    {
      "cell_type": "code",
      "execution_count": null,
      "metadata": {
        "id": "30yyuwnlzfrS"
      },
      "outputs": [],
      "source": [
        " img = io.imread(ruta + 'geome2.png') # Lee imagen\n",
        "# img = io.imread(ruta + 'Lena.png') # Lee imagen\n",
        "img = cv.cvtColor(img, cv.COLOR_BGR2GRAY) # Convierte imagen a tonos de gris\n"
      ]
    },
    {
      "cell_type": "markdown",
      "metadata": {
        "id": "-7Cr_GdU5B1L"
      },
      "source": [
        "- Se definen los operadores derivativos"
      ]
    },
    {
      "cell_type": "code",
      "execution_count": null,
      "metadata": {
        "id": "Y90HixlG5AdF"
      },
      "outputs": [],
      "source": [
        "filtro_Prewitt1 = np.array([[-1,0,1],\n",
        "                            [-1,0,1],\n",
        "                            [-1,0,1]])\n",
        "\n",
        "filtro_Prewitt2 = np.array([[1,1,1],\n",
        "                            [0,0,0],\n",
        "                            [-1,-1,-1]])"
      ]
    },
    {
      "cell_type": "markdown",
      "metadata": {
        "id": "9uaYPlcT5TDG"
      },
      "source": [
        "- Se usan los operadores para filtrar la imagen y se obtienen aproximaciones de gradiente de la imagen.\n",
        "![https://i0.wp.com/theailearner.com/wp-content/uploads/2019/05/gr4.png?resize=625%2C263&ssl=1](https://i0.wp.com/theailearner.com/wp-content/uploads/2019/05/gr4.png?resize=625%2C263&ssl=1)"
      ]
    },
    {
      "cell_type": "code",
      "execution_count": null,
      "metadata": {
        "id": "fcggL82K3p2Z"
      },
      "outputs": [],
      "source": [
        "\n",
        "imgPrewitt1 = cv.filter2D(img,cv.CV_64F, filtro_Prewitt1)\n",
        "imgPrewitt2 = cv.filter2D(img,cv.CV_64F, filtro_Prewitt2)\n",
        "\n",
        "imgPrewitt1Norm = cv.normalize(imgPrewitt1, None, alpha=0, beta=255, norm_type=cv.NORM_MINMAX)\n",
        "imgPrewitt2Norm = cv.normalize(imgPrewitt2, None, alpha=0, beta=255, norm_type=cv.NORM_MINMAX)\n"
      ]
    },
    {
      "cell_type": "markdown",
      "metadata": {
        "id": "wi_Zy16g5kyZ"
      },
      "source": [
        "**Visualización**"
      ]
    },
    {
      "cell_type": "code",
      "execution_count": null,
      "metadata": {
        "colab": {
          "base_uri": "https://localhost:8080/",
          "height": 294
        },
        "id": "HTbJjj474HwY",
        "outputId": "9e7691e6-631c-4554-d9eb-d8ec52fe3856"
      },
      "outputs": [
        {
          "name": "stdout",
          "output_type": "stream",
          "text": [
            "original\n"
          ]
        },
        {
          "data": {
            "image/png": "[encoded data removed]",
            "text/plain": [
              "<PIL.Image.Image image mode=L size=430x259 at 0x7F591AE933A0>"
            ]
          },
          "metadata": {},
          "output_type": "display_data"
        }
      ],
      "source": [
        "\n",
        "print('original')\n",
        "cv2_imshow(img)\n"
      ]
    },
    {
      "cell_type": "markdown",
      "metadata": {
        "id": "MB_wXGWv6PKU"
      },
      "source": [
        "- Bordes verticales porque la derivada es respecto al eje horizontal."
      ]
    },
    {
      "cell_type": "code",
      "execution_count": null,
      "metadata": {
        "colab": {
          "base_uri": "https://localhost:8080/",
          "height": 294
        },
        "id": "KFb_dxEG5vEO",
        "outputId": "80d30a74-66ed-4fee-b3c8-f758beb09082"
      },
      "outputs": [
        {
          "name": "stdout",
          "output_type": "stream",
          "text": [
            "Prewitt1\n"
          ]
        },
        {
          "data": {
            "image/png": "[encoded data removed]",
            "text/plain": [
              "<PIL.Image.Image image mode=L size=430x259 at 0x7F591AE92B30>"
            ]
          },
          "metadata": {},
          "output_type": "display_data"
        }
      ],
      "source": [
        "print('Prewitt1')\n",
        "cv2_imshow(imgPrewitt1Norm)\n"
      ]
    },
    {
      "cell_type": "markdown",
      "metadata": {
        "id": "0kRt3f0G6Z0D"
      },
      "source": [
        "- Bordes horizontales porque la derivada es respecto al eje vertical."
      ]
    },
    {
      "cell_type": "code",
      "execution_count": null,
      "metadata": {
        "colab": {
          "base_uri": "https://localhost:8080/",
          "height": 294
        },
        "id": "lDbUNh_S5yYu",
        "outputId": "83c38d68-fd66-444e-8851-f53a1fcb3570"
      },
      "outputs": [
        {
          "name": "stdout",
          "output_type": "stream",
          "text": [
            "Prewitt2\n"
          ]
        },
        {
          "data": {
            "image/png": "[encoded data removed]",
            "text/plain": [
              "<PIL.Image.Image image mode=L size=430x259 at 0x7F591AE93910>"
            ]
          },
          "metadata": {},
          "output_type": "display_data"
        }
      ],
      "source": [
        "print('Prewitt2')\n",
        "cv2_imshow(imgPrewitt2Norm)\n"
      ]
    },
    {
      "cell_type": "markdown",
      "metadata": {
        "id": "RDbEV24M6sia"
      },
      "source": [
        "- Los bordes se resaltan solo con valores positivos $Mag = |dX| + |dY|$"
      ]
    },
    {
      "cell_type": "code",
      "execution_count": null,
      "metadata": {
        "id": "FpuoR90t57BQ"
      },
      "outputs": [],
      "source": [
        "imgPrewitt1Abs = np.abs(imgPrewitt1)\n",
        "imgPrewitt2Abs = np.abs(imgPrewitt2)\n",
        "imgPrewitt12Abs = imgPrewitt1Abs + imgPrewitt2Abs\n",
        "imgPrewitt1AbsNorm = cv.normalize(imgPrewitt1Abs, None, alpha=0, beta=255, norm_type=cv.NORM_MINMAX)\n",
        "imgPrewitt2AbsNorm = cv.normalize(imgPrewitt2Abs, None, alpha=0, beta=255, norm_type=cv.NORM_MINMAX)\n",
        "imgPrewitt12AbsNorm = cv.normalize(imgPrewitt12Abs, None, alpha=0, beta=255, norm_type=cv.NORM_MINMAX)\n"
      ]
    },
    {
      "cell_type": "code",
      "execution_count": null,
      "metadata": {
        "colab": {
          "base_uri": "https://localhost:8080/",
          "height": 294
        },
        "id": "JvhTZqz672r4",
        "outputId": "aaeaffdd-b70a-4159-f8ab-270bf30078d2"
      },
      "outputs": [
        {
          "name": "stdout",
          "output_type": "stream",
          "text": [
            "Abs Prewitt1\n"
          ]
        },
        {
          "data": {
            "image/png": "[encoded data removed]",
            "text/plain": [
              "<PIL.Image.Image image mode=L size=430x259 at 0x7F591AE93520>"
            ]
          },
          "metadata": {},
          "output_type": "display_data"
        }
      ],
      "source": [
        "\n",
        "print('Abs Prewitt1')\n",
        "cv2_imshow(imgPrewitt1AbsNorm)"
      ]
    },
    {
      "cell_type": "code",
      "execution_count": null,
      "metadata": {
        "colab": {
          "base_uri": "https://localhost:8080/",
          "height": 294
        },
        "id": "-YZYOEYR7PRr",
        "outputId": "2ecaf956-7ca6-4768-d6b8-bd52ba1a3e37"
      },
      "outputs": [
        {
          "name": "stdout",
          "output_type": "stream",
          "text": [
            "Abs Prewitt2\n"
          ]
        },
        {
          "data": {
            "image/png": "[encoded data removed]",
            "text/plain": [
              "<PIL.Image.Image image mode=L size=430x259 at 0x7F591AE939A0>"
            ]
          },
          "metadata": {},
          "output_type": "display_data"
        }
      ],
      "source": [
        "print('Abs Prewitt2')\n",
        "cv2_imshow(imgPrewitt2AbsNorm)"
      ]
    },
    {
      "cell_type": "code",
      "execution_count": null,
      "metadata": {
        "colab": {
          "base_uri": "https://localhost:8080/",
          "height": 294
        },
        "id": "bR7WWBqQ71nz",
        "outputId": "1ad07d7a-6b3d-4c58-a223-5f852440b10a"
      },
      "outputs": [
        {
          "name": "stdout",
          "output_type": "stream",
          "text": [
            "Abs Prewitt1 + Abs Prewitt2\n"
          ]
        },
        {
          "data": {
            "image/png": "[encoded data removed]",
            "text/plain": [
              "<PIL.Image.Image image mode=L size=430x259 at 0x7F58D75FC7F0>"
            ]
          },
          "metadata": {},
          "output_type": "display_data"
        }
      ],
      "source": [
        "print('Abs Prewitt1 + Abs Prewitt2')\n",
        "cv2_imshow(imgPrewitt12AbsNorm)\n",
        "\n"
      ]
    },
    {
      "cell_type": "markdown",
      "metadata": {
        "id": "iyniagzL-6VY"
      },
      "source": [
        "- Se umbraliza la imagen magnitud de gradiente.\n",
        "![https://svi.nl/wikiimg/SeedAndThreshold_02.png](https://svi.nl/wikiimg/SeedAndThreshold_02.png)"
      ]
    },
    {
      "cell_type": "code",
      "execution_count": null,
      "metadata": {
        "colab": {
          "base_uri": "https://localhost:8080/",
          "height": 294
        },
        "id": "5IlJCvJI9NYV",
        "outputId": "3c24588b-adc0-4752-da34-cf7ea267fffd"
      },
      "outputs": [
        {
          "name": "stdout",
          "output_type": "stream",
          "text": [
            "Bordes detectados con th = 5\n"
          ]
        },
        {
          "data": {
            "image/png": "[encoded data removed]",
            "text/plain": [
              "<PIL.Image.Image image mode=L size=430x259 at 0x7F591AE939A0>"
            ]
          },
          "metadata": {},
          "output_type": "display_data"
        }
      ],
      "source": [
        "th = 5\n",
        "_, bordes_th = cv.threshold(imgPrewitt12AbsNorm, th, 255, cv.THRESH_BINARY)\n",
        "print('Bordes detectados con th = '+ str(th))\n",
        "cv2_imshow(bordes_th)"
      ]
    },
    {
      "cell_type": "code",
      "execution_count": null,
      "metadata": {
        "colab": {
          "base_uri": "https://localhost:8080/",
          "height": 294
        },
        "id": "nxS_rhug-0tZ",
        "outputId": "b3c3d2a2-9f07-4850-e1a2-b89a53fececa"
      },
      "outputs": [
        {
          "name": "stdout",
          "output_type": "stream",
          "text": [
            "Bordes detectados con th = 15\n"
          ]
        },
        {
          "data": {
            "image/png": "[encoded data removed]",
            "text/plain": [
              "<PIL.Image.Image image mode=L size=430x259 at 0x7F591AE931F0>"
            ]
          },
          "metadata": {},
          "output_type": "display_data"
        }
      ],
      "source": [
        "th = 15\n",
        "_, bordes_th = cv.threshold(imgPrewitt12AbsNorm, th, 255, cv.THRESH_BINARY)\n",
        "print('Bordes detectados con th = '+ str(th))\n",
        "cv2_imshow(bordes_th)"
      ]
    },
    {
      "cell_type": "code",
      "execution_count": null,
      "metadata": {
        "colab": {
          "base_uri": "https://localhost:8080/",
          "height": 294
        },
        "id": "u2bQwxha-2bG",
        "outputId": "5ddd43c8-a2f8-4f75-b584-6fd9742ac6c4"
      },
      "outputs": [
        {
          "name": "stdout",
          "output_type": "stream",
          "text": [
            "Bordes detectados con th = 50\n"
          ]
        },
        {
          "data": {
            "image/png": "[encoded data removed]",
            "text/plain": [
              "<PIL.Image.Image image mode=L size=430x259 at 0x7F591AE92CE0>"
            ]
          },
          "metadata": {},
          "output_type": "display_data"
        }
      ],
      "source": [
        "th = 50\n",
        "_, bordes_th = cv.threshold(imgPrewitt12AbsNorm, th, 255, cv.THRESH_BINARY)\n",
        "print('Bordes detectados con th = '+ str(th))\n",
        "cv2_imshow(bordes_th)"
      ]
    },
    {
      "cell_type": "code",
      "execution_count": null,
      "metadata": {
        "colab": {
          "base_uri": "https://localhost:8080/",
          "height": 294
        },
        "id": "t3gP6j6I-4_G",
        "outputId": "629c9f8d-b2d4-4ede-9e82-2e26704109a7"
      },
      "outputs": [
        {
          "name": "stdout",
          "output_type": "stream",
          "text": [
            "Bordes detectados con th = 100\n"
          ]
        },
        {
          "data": {
            "image/png": "[encoded data removed]",
            "text/plain": [
              "<PIL.Image.Image image mode=L size=430x259 at 0x7F591AE93310>"
            ]
          },
          "metadata": {},
          "output_type": "display_data"
        }
      ],
      "source": [
        "th = 100\n",
        "_, bordes_th = cv.threshold(imgPrewitt12AbsNorm, th, 255, cv.THRESH_BINARY)\n",
        "print('Bordes detectados con th = '+ str(th))\n",
        "cv2_imshow(bordes_th)"
      ]
    },
    {
      "cell_type": "code",
      "execution_count": null,
      "metadata": {
        "colab": {
          "base_uri": "https://localhost:8080/",
          "height": 294
        },
        "id": "yTSGswpS-63W",
        "outputId": "4b1bffc1-47ff-4777-ab1d-2d0e460efae5"
      },
      "outputs": [
        {
          "name": "stdout",
          "output_type": "stream",
          "text": [
            "Bordes detectados con th = 150\n"
          ]
        },
        {
          "data": {
            "image/png": "[encoded data removed]",
            "text/plain": [
              "<PIL.Image.Image image mode=L size=430x259 at 0x7F591AE93340>"
            ]
          },
          "metadata": {},
          "output_type": "display_data"
        }
      ],
      "source": [
        "th = 150\n",
        "_, bordes_th = cv.threshold(imgPrewitt12AbsNorm, th, 255, cv.THRESH_BINARY)\n",
        "print('Bordes detectados con th = '+ str(th))\n",
        "cv2_imshow(bordes_th)"
      ]
    },
    {
      "cell_type": "code",
      "execution_count": null,
      "metadata": {
        "colab": {
          "base_uri": "https://localhost:8080/",
          "height": 294
        },
        "id": "DUQ1qPQA-9YF",
        "outputId": "8a911021-abce-4213-f180-398cf708be0c"
      },
      "outputs": [
        {
          "name": "stdout",
          "output_type": "stream",
          "text": [
            "Bordes detectados con th = 200\n"
          ]
        },
        {
          "data": {
            "image/png": "[encoded data removed]",
            "text/plain": [
              "<PIL.Image.Image image mode=L size=430x259 at 0x7F591AE936A0>"
            ]
          },
          "metadata": {},
          "output_type": "display_data"
        }
      ],
      "source": [
        "th = 200\n",
        "_, bordes_th = cv.threshold(imgPrewitt12AbsNorm, th, 255, cv.THRESH_BINARY)\n",
        "print('Bordes detectados con th = '+ str(th))\n",
        "cv2_imshow(bordes_th)"
      ]
    },
    {
      "cell_type": "markdown",
      "metadata": {
        "id": "IxkG8qtxBjLU"
      },
      "source": [
        "- ¿cómo se define $th$?\n",
        "- ¿Ideas para que el borde quede delgado?\n",
        "- ¿Qué efecto tiene el ruido?"
      ]
    },
    {
      "cell_type": "markdown",
      "metadata": {
        "id": "zV-VLEgtDOdF"
      },
      "source": [
        "## Detector Canny"
      ]
    },
    {
      "cell_type": "code",
      "execution_count": null,
      "metadata": {
        "colab": {
          "base_uri": "https://localhost:8080/",
          "height": 294
        },
        "id": "-gu64uTBAqEt",
        "outputId": "d81c8ec9-d8b4-47f5-8bfe-b9dddb7a558d"
      },
      "outputs": [
        {
          "name": "stdout",
          "output_type": "stream",
          "text": [
            "Bordes canny\n"
          ]
        },
        {
          "data": {
            "image/png": "[encoded data removed]",
            "text/plain": [
              "<PIL.Image.Image image mode=L size=430x259 at 0x7F591AE93340>"
            ]
          },
          "metadata": {},
          "output_type": "display_data"
        }
      ],
      "source": [
        "edges = cv.Canny(img,100,200)\n",
        "print('Bordes canny')\n",
        "cv2_imshow(edges)"
      ]
    },
    {
      "cell_type": "code",
      "execution_count": null,
      "metadata": {
        "id": "M0ktLwvBAsf2"
      },
      "outputs": [],
      "source": []
    }
  ],
  "metadata": {
    "colab": {
      "provenance": []
    },
    "kernelspec": {
      "display_name": "Python 3",
      "name": "python3"
    },
    "language_info": {
      "name": "python"
    }
  },
  "nbformat": 4,
  "nbformat_minor": 0
}
